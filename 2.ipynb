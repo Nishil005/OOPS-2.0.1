{
 "cells": [
  {
   "cell_type": "markdown",
   "id": "8135bdd5-5df9-443c-bcde-52da68066ec6",
   "metadata": {},
   "source": [
    "Q1. What is Abstraction in OOps? Explain with an example.\n",
    "Abstraction is a fundamental concept in object-oriented programming (OOP) that focuses on representing the essential features of an object while hiding unnecessary details. It allows us to create models of complex systems by selectively exposing relevant information and hiding the implementation details.\n",
    "\n",
    "In OOP, abstraction is achieved through abstract classes and interfaces. Abstract classes provide a blueprint for creating subclasses but cannot be instantiated themselves. They contain one or more abstract methods, which are declared but not implemented in the abstract class. Subclasses of an abstract class must provide implementations for all the abstract methods.\n",
    "\n",
    "Here's an example to illustrate abstraction using abstract classes in Python:"
   ]
  },
  {
   "cell_type": "code",
   "execution_count": 1,
   "id": "8d76bdd0-d626-41db-9921-8f82d49312fc",
   "metadata": {},
   "outputs": [
    {
     "name": "stdout",
     "output_type": "stream",
     "text": [
      "Drawing circle...\n",
      "Calculating area of circle...\n",
      "Drawing rectangle...\n",
      "Calculating area of rectangle...\n"
     ]
    }
   ],
   "source": [
    "from abc import ABC, abstractmethod\n",
    "\n",
    "class Shape(ABC):\n",
    "    @abstractmethod\n",
    "    def draw(self):\n",
    "        pass\n",
    "\n",
    "    @abstractmethod\n",
    "    def area(self):\n",
    "        pass\n",
    "\n",
    "class Circle(Shape):\n",
    "    def draw(self):\n",
    "        print(\"Drawing circle...\")\n",
    "\n",
    "    def area(self):\n",
    "        print(\"Calculating area of circle...\")\n",
    "        # Calculation logic goes here\n",
    "\n",
    "class Rectangle(Shape):\n",
    "    def draw(self):\n",
    "        print(\"Drawing rectangle...\")\n",
    "\n",
    "    def area(self):\n",
    "        print(\"Calculating area of rectangle...\")\n",
    "        # Calculation logic goes here\n",
    "\n",
    "# Creating objects of the Circle and Rectangle classes\n",
    "circle = Circle()\n",
    "rectangle = Rectangle()\n",
    "\n",
    "circle.draw()\n",
    "circle.area()\n",
    "\n",
    "rectangle.draw()\n",
    "rectangle.area()\n"
   ]
  },
  {
   "cell_type": "markdown",
   "id": "4294a1e4-bb8d-4504-ad1f-52ff78dded15",
   "metadata": {},
   "source": [
    "Q2. Differentiate between Abstraction and Encapsulation. Explain with an example.\n"
   ]
  },
  {
   "cell_type": "markdown",
   "id": "1ae905ce-7e0d-449f-8fc7-3736bb4321c2",
   "metadata": {},
   "source": [
    "Abstraction and encapsulation are two fundamental concepts in object-oriented programming (OOP) but they serve different purposes.\n",
    "\n",
    "Abstraction:\n",
    "Abstraction focuses on representing the essential features of an object while hiding unnecessary details. It allows us to create models of complex systems by selectively exposing relevant information and hiding the implementation details. Abstraction is achieved through abstract classes and interfaces, where abstract methods define the interface that subclasses must implement.\n",
    "\n",
    "Example:\n",
    "In the context of a car, abstraction allows us to focus on the high-level features and behaviors of a car without concerning ourselves with the internal mechanisms. We can define an abstract class called Car with abstract methods such as start(), accelerate(), and brake(). The subclasses of Car, such as Sedan and SUV, will provide specific implementations for these methods. With abstraction, we can work with the abstract Car class, invoke its methods, and perform car-related operations without worrying about the internal details of individual car models.\n",
    "\n",
    "Encapsulation:\n",
    "Encapsulation is the process of bundling data and methods that operate on that data into a single unit called a class. It ensures that the data is hidden and can only be accessed through the defined methods, thereby protecting the integrity of the data. Encapsulation allows us to control the access to data and provides data abstraction, preventing direct manipulation from outside the class.\n",
    "\n",
    "Example:\n",
    "Continuing with the car analogy, encapsulation allows us to define a Car class with private data members such as mileage, fuel_level, and engine_status. We can then provide public methods like get_mileage(), get_fuel_level(), and start_engine() to access and modify these private data members. By encapsulating the data within the class and controlling the access through methods, we can ensure data integrity, apply validation checks, and enforce business rules. Clients interacting with the Car class can only access and modify the data through the defined methods, maintaining the encapsulation and protecting the internal state of the object."
   ]
  },
  {
   "cell_type": "markdown",
   "id": "9d9ad7f4-be39-4cdc-aa85-1c2dc8c8ec89",
   "metadata": {},
   "source": [
    "Q3. What is abc module in python? Why is it used?\n",
    "The abc module in Python stands for \"Abstract Base Classes.\" It provides infrastructure for creating abstract base classes, which are classes that cannot be instantiated themselves but serve as a blueprint for creating subclasses. Abstract base classes define a common interface that subclasses must adhere to by implementing specific methods.\n",
    "\n",
    "The abc module is used to create abstract base classes and enforce the implementation of certain methods in derived classes. It helps in achieving abstraction and provides a way to define a common interface for a group of related classes."
   ]
  },
  {
   "cell_type": "code",
   "execution_count": 2,
   "id": "503d1462-7690-4dd9-aec4-a555d53c1caa",
   "metadata": {},
   "outputs": [
    {
     "name": "stdout",
     "output_type": "stream",
     "text": [
      "78.5\n",
      "31.400000000000002\n"
     ]
    }
   ],
   "source": [
    "from abc import ABC, abstractmethod\n",
    "\n",
    "class Shape(ABC):\n",
    "    @abstractmethod\n",
    "    def area(self):\n",
    "        pass\n",
    "\n",
    "    @abstractmethod\n",
    "    def perimeter(self):\n",
    "        pass\n",
    "\n",
    "class Circle(Shape):\n",
    "    def __init__(self, radius):\n",
    "        self.radius = radius\n",
    "\n",
    "    def area(self):\n",
    "        return 3.14 * self.radius ** 2\n",
    "\n",
    "    def perimeter(self):\n",
    "        return 2 * 3.14 * self.radius\n",
    "\n",
    "# Creating an object of the Circle class\n",
    "circle = Circle(5)\n",
    "print(circle.area())  # Output: 78.5\n",
    "print(circle.perimeter())  # Output: 31.4\n"
   ]
  },
  {
   "cell_type": "markdown",
   "id": "3e4077fa-dc65-4820-a3fe-d857855b0caf",
   "metadata": {},
   "source": [
    "Q4. How can we achieve data abstraction?\n"
   ]
  },
  {
   "cell_type": "markdown",
   "id": "3b678a7c-c95e-43a9-a83d-eaf84906080b",
   "metadata": {},
   "source": [
    "Data abstraction in object-oriented programming (OOP) is achieved through the use of classes and objects. It involves hiding the internal details of data and providing a simplified interface for interacting with the data. The main goal of data abstraction is to focus on the essential features and behavior of data while abstracting away unnecessary details.\n",
    "\n",
    "Here are some ways to achieve data abstraction in OOP:\n",
    "\n",
    "Classes and Objects: Define classes to encapsulate data and related methods. Classes serve as blueprints for creating objects that represent real-world entities or concepts. The internal data of an object is hidden from external access, and interaction with the data is done through methods provided by the class.\n",
    "\n",
    "Access Modifiers: Use access modifiers to control the visibility and accessibility of class members (attributes and methods). In many object-oriented languages, such as Python, access modifiers like private, protected, and public are used to restrict direct access to data from outside the class. This ensures that the data is only accessed through appropriate methods, maintaining data abstraction.\n",
    "\n",
    "Getters and Setters: Provide getter and setter methods to access and modify the data of an object. Getters allow retrieving the values of private data members, and setters allow modifying those values. By using getters and setters, you can enforce validation checks, apply business rules, and control the access to the data.\n",
    "\n",
    "Data Hiding: Hide the internal implementation details of data from external entities. Encapsulate the data within the class and expose only the necessary information through methods and properties. This way, the internal representation of data can be changed without affecting the external code that interacts with the class.\n",
    "\n",
    "Abstraction through Interfaces: Define interfaces or abstract base classes that specify the methods and properties that should be implemented by concrete classes. By programming to the interface, rather than specific implementations, you achieve data abstraction. Clients interacting with objects only need to know and use the common interface, without being concerned about the underlying data and its representation.\n",
    "\n",
    "By combining these techniques, you can achieve data abstraction in your object-oriented designs. The idea is to provide a clear and simplified interface for interacting with the data, while hiding the implementation details and complexity. This promotes modularity, code maintainability, and flexibility in managing the data within your program."
   ]
  },
  {
   "cell_type": "markdown",
   "id": "26503c82-34f6-41df-ba34-d7035bf887aa",
   "metadata": {},
   "source": [
    "Q5. Can we create an instance of an abstract class? Explain your answer."
   ]
  },
  {
   "cell_type": "markdown",
   "id": "3e918c29-efc6-43bd-8eaa-838ed69ca6ba",
   "metadata": {},
   "source": [
    "No, we cannot create an instance of an abstract class in most programming languages, including Python. An abstract class serves as a blueprint for creating subclasses but cannot be instantiated itself."
   ]
  }
 ],
 "metadata": {
  "kernelspec": {
   "display_name": "Python 3 (ipykernel)",
   "language": "python",
   "name": "python3"
  },
  "language_info": {
   "codemirror_mode": {
    "name": "ipython",
    "version": 3
   },
   "file_extension": ".py",
   "mimetype": "text/x-python",
   "name": "python",
   "nbconvert_exporter": "python",
   "pygments_lexer": "ipython3",
   "version": "3.10.8"
  }
 },
 "nbformat": 4,
 "nbformat_minor": 5
}
